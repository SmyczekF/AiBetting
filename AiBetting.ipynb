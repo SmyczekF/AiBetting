{
 "cells": [
  {
   "cell_type": "code",
   "execution_count": 95,
   "outputs": [
    {
     "name": "stderr",
     "output_type": "stream",
     "text": [
      "Using state Silesia server backend.\n"
     ]
    }
   ],
   "source": [
    "from selenium import webdriver\n",
    "from selenium.webdriver.common.by import By\n",
    "import translators as ts\n",
    "import time\n",
    "import math\n",
    "import re"
   ],
   "metadata": {
    "collapsed": false,
    "pycharm": {
     "name": "#%%\n"
    }
   }
  },
  {
   "cell_type": "code",
   "execution_count": 171,
   "outputs": [],
   "source": [
    "class Match:\n",
    "    def __init__(self, home_team=None, away_team=None, home_win=None,\n",
    "                 draw=None, away_win=None, victory=None):\n",
    "        self.home_team = home_team\n",
    "        self.away_team = away_team\n",
    "        self.home_win = home_win\n",
    "        self.draw = draw\n",
    "        self.away_win = away_win\n",
    "        self.victory = victory\n",
    "        self.match_page = None\n",
    "\n",
    "    def get_upcoming_betting_odds(self, username=None, password=None):\n",
    "        driver = webdriver.Chrome()\n",
    "\n",
    "        driver.get(\"https://live.efortuna.pl/\")\n",
    "\n",
    "        driver.maximize_window()\n",
    "        time.sleep(5)\n",
    "\n",
    "        cookies_button = driver.find_element(By.ID, \"cookie-consent-button-accept\")\n",
    "        cookies_button.click()\n",
    "\n",
    "        login_button = driver.find_element(By.CSS_SELECTOR, \"div.login_form__button\")\n",
    "        login_button.click()\n",
    "\n",
    "        login_field = driver.find_element(By.NAME, \"username\")\n",
    "        password_field = driver.find_element(By.NAME, \"password\")\n",
    "\n",
    "        login_field.send_keys(username)\n",
    "        password_field.send_keys(password)\n",
    "\n",
    "        # final_login_button = driver.find_element(By.CSS_SELECTOR, \"button.button.button-yellow.user-box-form-button\")\n",
    "        # final_login_button.click()\n",
    "\n",
    "        expand_matches = driver.find_element(By.CLASS_NAME, \"sport-header__button\")\n",
    "        expand_matches.click()\n",
    "\n",
    "        actual_matches = driver.find_elements(By.CLASS_NAME, \"live-match-info__team--1\")\n",
    "        for actual_match in actual_matches:\n",
    "            if actual_match.get_attribute(\"innerHTML\").__contains__(self.home_team):\n",
    "                match_button = actual_match.find_element(By.XPATH, \"./..\")\n",
    "                self.match_page = match_button.get_attribute(\"href\")\n",
    "\n",
    "        driver.close()\n",
    "        self.bet_on_match()\n",
    "\n",
    "    def bet_on_match(self):\n",
    "        driver = webdriver.Chrome()\n",
    "\n",
    "        driver.get(self.match_page)\n",
    "\n",
    "        driver.maximize_window()\n",
    "        time.sleep(5)\n",
    "\n",
    "        cookies_button = driver.find_element(By.ID, \"cookie-consent-button-accept\")\n",
    "        cookies_button.click()\n",
    "\n",
    "        time.sleep(5)"
   ],
   "metadata": {
    "collapsed": false,
    "pycharm": {
     "name": "#%%\n"
    }
   }
  },
  {
   "cell_type": "code",
   "execution_count": 172,
   "outputs": [],
   "source": [
    "match = Match(home_team=\"Chelsea\")\n",
    "# username = input(\"Username: \")\n",
    "# password = input(\"Password: \")\n",
    "# match.get_upcoming_betting_odds(username, password)\n",
    "match.get_upcoming_betting_odds('username', 'password')"
   ],
   "metadata": {
    "collapsed": false,
    "pycharm": {
     "name": "#%%\n"
    }
   }
  },
  {
   "cell_type": "code",
   "execution_count": 102,
   "outputs": [],
   "source": [
    "def get_past_results(matches_number=8, every=False):\n",
    "    driver = webdriver.Chrome()\n",
    "\n",
    "    driver.get(\"https://kickoff.ai/matches\")\n",
    "\n",
    "    driver.maximize_window()\n",
    "\n",
    "    click_number = math.ceil(matches_number/8)\n",
    "    for i in range(click_number):\n",
    "        button = driver.find_element(By.CLASS_NAME, \"more-matches-all\")\n",
    "        button.click()\n",
    "        time.sleep(1)\n",
    "\n",
    "    predictions = driver.find_elements(By.CLASS_NAME, \"prediction-result\")\n",
    "\n",
    "    predictions = predictions[:matches_number]\n",
    "    matches_arr = []\n",
    "    for prediction in predictions:\n",
    "        home_team = prediction.find_element(By.CSS_SELECTOR, '.team-home .team-name').get_attribute('innerHTML')\n",
    "        home_team = ts.google(home_team, from_language='en', to_language='pl')\n",
    "\n",
    "        away_team = prediction.find_element(By.CSS_SELECTOR, '.team-away .team-name').get_attribute('innerHTML')\n",
    "        away_team = ts.google(away_team, from_language='en', to_language='pl')\n",
    "\n",
    "        victory = \"Draw\"\n",
    "\n",
    "        result = prediction.find_element(By.CLASS_NAME, \"result\").get_attribute(\"innerHTML\")\n",
    "        result_arr = re.findall(r'\\d+', result)\n",
    "\n",
    "        if int(result_arr[0]) > int(result_arr[1]):\n",
    "            victory = home_team\n",
    "        elif int(result_arr[0]) < int(result_arr[1]):\n",
    "            victory = away_team\n",
    "\n",
    "        bars = prediction.find_elements(By.CLASS_NAME, \"progress-bar\")\n",
    "        temp_width_arr = []\n",
    "        temp_sum = 0\n",
    "        for bar in bars:\n",
    "            temp_width_arr.append(bar.size['width'])\n",
    "            temp_sum += bar.size['width']\n",
    "        for i in range(len(temp_width_arr)):\n",
    "            temp_width_arr[i] = round((temp_width_arr[i] / temp_sum) * 100)\n",
    "\n",
    "        matches_arr.append(Match(home_team, away_team, temp_width_arr[0], temp_width_arr[1], temp_width_arr[2], victory))\n",
    "\n",
    "    driver.close()\n",
    "    return matches_arr"
   ],
   "metadata": {
    "collapsed": false,
    "pycharm": {
     "name": "#%%\n"
    }
   }
  },
  {
   "cell_type": "code",
   "execution_count": 103,
   "outputs": [
    {
     "name": "stdout",
     "output_type": "stream",
     "text": [
      "W meczu Hiszpania vs Kostaryka / Zwycięzca: Hiszpania\n",
      "Czysta 1 weszła\n",
      "W meczu Niemcy vs Japonia / Zwycięzca: Japonia\n",
      "-5 zl\n",
      "Dobrze: 1, Źle: 1\n",
      "Skuteczność: 0.5\n"
     ]
    }
   ],
   "source": [
    "matches = get_past_results(2)\n",
    "\n",
    "right_call = 0\n",
    "wrong_call = 0\n",
    "\n",
    "for match in matches:\n",
    "    # print(f\"In match: {i.home_team} vs {i.away_team}\")\n",
    "    # print(f\"Home winning odds: {i.home_win}\")\n",
    "    # print(f\"Draw odds: {i.draw}\")\n",
    "    # print(f\"Away winning odds: {i.away_win}\")\n",
    "    # print(f\"Team {i.victory} won!\")\n",
    "\n",
    "    print(f\"W meczu {match.home_team} vs {match.away_team} / Zwycięzca: {match.victory}\")\n",
    "    odds = [match.home_win, match.draw, match.away_win]\n",
    "    if max(odds) == match.home_win and max(odds) >= 50:\n",
    "        if match.home_team != match.victory:\n",
    "            print(\"-5 zl\")\n",
    "            wrong_call += 1\n",
    "        else:\n",
    "            print(\"Czysta 1 weszła\")\n",
    "            right_call += 1\n",
    "    elif max(odds) == match.away_win and max(odds) >= 50:\n",
    "        if match.away_team != match.victory:\n",
    "            print(\"-5 zl\")\n",
    "            wrong_call += 1\n",
    "        else:\n",
    "            print(\"Czysta 2 weszła\")\n",
    "            right_call += 1\n",
    "    elif max(odds) == match.home_win and max(odds) < 50:\n",
    "        if (match.home_team != match.victory) and (match.victory != \"Draw\"):\n",
    "            print(\"-5 zl\")\n",
    "            wrong_call += 1\n",
    "        else:\n",
    "            print(\"10 weszło\")\n",
    "            right_call += 1\n",
    "    elif max(odds) == match.away_win and max(odds) < 50:\n",
    "        if (match.away_team != match.victory) and (match.victory != \"Draw\"):\n",
    "            print(\"-5 zl\")\n",
    "            wrong_call += 1\n",
    "        else:\n",
    "            print(\"02 weszło\")\n",
    "            right_call += 1\n",
    "\n",
    "print(f\"Dobrze: {right_call}, Źle: {wrong_call}\")\n",
    "print(f\"Skuteczność: {right_call/(right_call + wrong_call)}\")\n"
   ],
   "metadata": {
    "collapsed": false,
    "pycharm": {
     "name": "#%%\n"
    }
   }
  }
 ],
 "metadata": {
  "kernelspec": {
   "display_name": "Python 3",
   "language": "python",
   "name": "python3"
  },
  "language_info": {
   "codemirror_mode": {
    "name": "ipython",
    "version": 2
   },
   "file_extension": ".py",
   "mimetype": "text/x-python",
   "name": "python",
   "nbconvert_exporter": "python",
   "pygments_lexer": "ipython2",
   "version": "2.7.6"
  }
 },
 "nbformat": 4,
 "nbformat_minor": 0
}