{
 "cells": [
  {
   "cell_type": "code",
   "execution_count": 127,
   "outputs": [],
   "source": [
    "from selenium import webdriver\n",
    "from selenium.webdriver.common.by import By\n",
    "import time\n",
    "import math\n",
    "import re"
   ],
   "metadata": {
    "collapsed": false,
    "pycharm": {
     "name": "#%%\n"
    }
   }
  },
  {
   "cell_type": "code",
   "execution_count": 132,
   "outputs": [],
   "source": [
    "class Match:\n",
    "    def __init__(self, home_team=None, away_team=None, home_win=None,\n",
    "                 draw=None, away_win=None, victory=None):\n",
    "        self.home_team = home_team\n",
    "        self.away_team = away_team\n",
    "        self.home_win = home_win\n",
    "        self.draw = draw\n",
    "        self.away_win = away_win\n",
    "        self.victory = victory\n",
    "        self.match_page = None\n",
    "        self.betting_odds = None\n",
    "        self.home_odds = None\n",
    "        self.away_odds = None\n",
    "        self.draw_odds = None\n",
    "\n",
    "    def get_upcoming_betting_odds(self, username=None, password=None):\n",
    "        driver = webdriver.Chrome()\n",
    "\n",
    "        driver.get(\"https://live.efortuna.pl/\")\n",
    "\n",
    "        driver.maximize_window()\n",
    "        time.sleep(5)\n",
    "\n",
    "        cookies_button = driver.find_element(By.ID, \"cookie-consent-button-accept\")\n",
    "        cookies_button.click()\n",
    "\n",
    "        login_button = driver.find_element(By.CSS_SELECTOR, \"div.login_form__button\")\n",
    "        login_button.click()\n",
    "\n",
    "        login_field = driver.find_element(By.NAME, \"username\")\n",
    "        password_field = driver.find_element(By.NAME, \"password\")\n",
    "\n",
    "        login_field.send_keys(username)\n",
    "        password_field.send_keys(password)\n",
    "\n",
    "        # final_login_button = driver.find_element(By.CSS_SELECTOR, \"button.button.button-yellow.user-box-form-button\")\n",
    "        # final_login_button.click()\n",
    "\n",
    "        expand_matches = driver.find_element(By.CLASS_NAME, \"sport-header__button\")\n",
    "        expand_matches.click()\n",
    "\n",
    "        actual_matches = driver.find_elements(By.CLASS_NAME, \"live-match-info__team--1\")\n",
    "        for actual_match in actual_matches:\n",
    "            if actual_match.get_attribute(\"innerHTML\").__contains__(self.home_team):\n",
    "                match_button = actual_match.find_element(By.XPATH, \"./..\")\n",
    "                self.match_page = match_button.get_attribute(\"href\")\n",
    "\n",
    "        driver.close()\n",
    "\n",
    "    # date check has to be implemented to be sure it's the correct match\n",
    "    def get_previous_betting_odds(self):\n",
    "        driver = webdriver.Chrome()\n",
    "\n",
    "        driver.get(\"https://www.flashscore.com/\")\n",
    "\n",
    "        driver.maximize_window()\n",
    "\n",
    "        cookies_button = driver.find_element(By.ID, \"onetrust-reject-all-handler\")\n",
    "        cookies_button.click()\n",
    "\n",
    "        search_button = driver.find_element(By.CSS_SELECTOR, \"#search-window\")\n",
    "        search_button.click()\n",
    "\n",
    "        input_field = driver.find_element(By.CSS_SELECTOR, \"#search-window > div > div > div.searchInput > input\")\n",
    "        input_field.send_keys(self.home_team)\n",
    "\n",
    "        time.sleep(2)\n",
    "\n",
    "        home_team_button = driver.find_element(By.CSS_SELECTOR, \"#search-window > div > div > div.searchResults > div > a:nth-child(1)\")\n",
    "        home_team_button.click()\n",
    "\n",
    "        time.sleep(2)\n",
    "\n",
    "        results_button = driver.find_element(By.CSS_SELECTOR, \"#li2\")\n",
    "        results_button.click()\n",
    "\n",
    "        matches = driver.find_elements(By.CLASS_NAME, \"event__participant--away\")\n",
    "        win_before = driver.window_handles[0]\n",
    "        for m in matches:\n",
    "            if m.get_attribute(\"innerHTML\").__contains__(self.away_team):\n",
    "                m.click()\n",
    "                win_after = driver.window_handles[1]\n",
    "                driver.switch_to.window(win_after)\n",
    "                break\n",
    "\n",
    "        pages = driver.find_elements(By.CLASS_NAME, \"tabs__tab\")\n",
    "        for p in pages:\n",
    "            if p.get_attribute(\"innerHTML\").__contains__(\"Odds\"):\n",
    "                p.click()\n",
    "                break\n",
    "\n",
    "        time.sleep(2)\n",
    "\n",
    "        self.home_odds = float(driver.find_element(By.CSS_SELECTOR, \"div.oddsTab__tableWrapper > div > div.ui-table__body > div:nth-child(1) > a:nth-child(2) > span\").get_attribute(\"innerHTML\"))\n",
    "        self.draw_odds = float(driver.find_element(By.CSS_SELECTOR, \"div.oddsTab__tableWrapper > div > div.ui-table__body > div:nth-child(1) > a:nth-child(3) > span\").get_attribute(\"innerHTML\"))\n",
    "        self.away_odds = float(driver.find_element(By.CSS_SELECTOR, \"div.oddsTab__tableWrapper > div > div.ui-table__body > div:nth-child(1) > a:nth-child(4) > span\").get_attribute(\"innerHTML\"))\n",
    "\n",
    "        driver.close()\n",
    "        driver.switch_to.window(win_before)\n",
    "        driver.close()"
   ],
   "metadata": {
    "collapsed": false,
    "pycharm": {
     "name": "#%%\n"
    }
   }
  },
  {
   "cell_type": "code",
   "execution_count": 134,
   "outputs": [
    {
     "name": "stdout",
     "output_type": "stream",
     "text": [
      "1.82\n",
      "3.55\n",
      "5.0\n"
     ]
    }
   ],
   "source": [
    "match = Match(home_team=\"Switzerland\", away_team='Cameroon')\n",
    "match.get_previous_betting_odds()\n",
    "print(match.home_odds)\n",
    "print(match.draw_odds)\n",
    "print(match.away_odds)\n",
    "# username = input(\"Username: \")\n",
    "# password = input(\"Password: \")\n",
    "# match.get_upcoming_betting_odds(username, password)\n",
    "# match.get_upcoming_betting_odds('username', 'password')"
   ],
   "metadata": {
    "collapsed": false,
    "pycharm": {
     "name": "#%%\n"
    }
   }
  },
  {
   "cell_type": "code",
   "execution_count": 124,
   "outputs": [],
   "source": [
    "def get_past_results(matches_number=8, every=False):\n",
    "    # op = webdriver.ChromeOptions()\n",
    "    # op.add_argument(\"--headless\")\n",
    "    driver = webdriver.Chrome()\n",
    "\n",
    "    driver.get(\"https://kickoff.ai/matches\")\n",
    "\n",
    "    driver.maximize_window()\n",
    "\n",
    "    click_number = math.ceil(matches_number/8)\n",
    "    for i in range(click_number):\n",
    "        button = driver.find_element(By.CLASS_NAME, \"more-matches-all\")\n",
    "        button.click()\n",
    "        time.sleep(1)\n",
    "\n",
    "    predictions = driver.find_elements(By.CLASS_NAME, \"prediction-result\")\n",
    "\n",
    "    predictions = predictions[:matches_number]\n",
    "    matches_arr = []\n",
    "    for prediction in predictions:\n",
    "        home_team = prediction.find_element(By.CSS_SELECTOR, '.team-home .team-name').get_attribute('innerHTML')\n",
    "        # home_team = ts.google(home_team, from_language='en', to_language='pl')\n",
    "\n",
    "        away_team = prediction.find_element(By.CSS_SELECTOR, '.team-away .team-name').get_attribute('innerHTML')\n",
    "        # away_team = ts.google(away_team, from_language='en', to_language='pl')\n",
    "\n",
    "        victory = \"Draw\"\n",
    "\n",
    "        result = prediction.find_element(By.CLASS_NAME, \"result\").get_attribute(\"innerHTML\")\n",
    "        result_arr = re.findall(r'\\d+', result)\n",
    "\n",
    "        if int(result_arr[0]) > int(result_arr[1]):\n",
    "            victory = home_team\n",
    "        elif int(result_arr[0]) < int(result_arr[1]):\n",
    "            victory = away_team\n",
    "\n",
    "        bars = prediction.find_elements(By.CLASS_NAME, \"progress-bar\")\n",
    "        temp_width_arr = []\n",
    "        temp_sum = 0\n",
    "        for bar in bars:\n",
    "            temp_width_arr.append(bar.size['width'])\n",
    "            temp_sum += bar.size['width']\n",
    "        for i in range(len(temp_width_arr)):\n",
    "            temp_width_arr[i] = round((temp_width_arr[i] / temp_sum) * 100)\n",
    "\n",
    "\n",
    "        match = Match(home_team, away_team, temp_width_arr[0], temp_width_arr[1], temp_width_arr[2], victory)\n",
    "        match.get_previous_betting_odds()\n",
    "\n",
    "        matches_arr.append(match)\n",
    "\n",
    "    driver.close()\n",
    "    return matches_arr"
   ],
   "metadata": {
    "collapsed": false,
    "pycharm": {
     "name": "#%%\n"
    }
   }
  },
  {
   "cell_type": "code",
   "execution_count": 137,
   "outputs": [],
   "source": [
    "def count_profit(bet=5, base_percentage=50, tax=0.12, draw_win_odds=1.3):\n",
    "    matches = get_past_results(10)\n",
    "\n",
    "    right_call = 0\n",
    "    wrong_call = 0\n",
    "    profit = 0\n",
    "\n",
    "\n",
    "    for m in matches:\n",
    "        # print(f\"In match: {i.home_team} vs {i.away_team}\")\n",
    "        # print(f\"Home winning odds: {i.home_win}\")\n",
    "        # print(f\"Draw odds: {i.draw}\")\n",
    "        # print(f\"Away winning odds: {i.away_win}\")\n",
    "        # print(f\"Team {i.victory} won!\")\n",
    "        odds = [m.home_win, m.draw, m.away_win]\n",
    "\n",
    "        print(f\"W meczu {m.home_team} vs {m.away_team} / Zwycięzca: {m.victory} {m.home_odds} {m.draw_odds} {m.away_odds}\")\n",
    "        if max(odds) == m.home_win and max(odds) >= base_percentage and m.home_team == m.victory:\n",
    "            profit += (m.home_odds * (bet - (bet * tax)) - bet)\n",
    "            print(profit)\n",
    "        elif max(odds) == m.away_win and max(odds) >= base_percentage and m.away_team == m.victory:\n",
    "            profit += (m.away_odds * (bet - (bet * tax)) - bet)\n",
    "            print(profit)\n",
    "        elif max(odds) == m.home_win and max(odds) < base_percentage and (m.victory == \"Draw\" or m.home_team == m.victory):\n",
    "            profit += (draw_win_odds * (bet - (bet * tax)) - bet)\n",
    "            print(profit)\n",
    "        elif max(odds) == m.away_win and max(odds) < base_percentage and (m.victory == \"Draw\" or m.away_team != m.victory):\n",
    "            profit += (draw_win_odds * (bet - (bet * tax)) - bet)\n",
    "            print(profit)\n",
    "        else:\n",
    "            profit -= 5\n",
    "            print(profit)\n",
    "    return profit"
   ],
   "metadata": {
    "collapsed": false,
    "pycharm": {
     "name": "#%%\n"
    }
   }
  },
  {
   "cell_type": "code",
   "execution_count": 138,
   "outputs": [
    {
     "name": "stdout",
     "output_type": "stream",
     "text": [
      "W meczu Switzerland vs Cameroon / Zwycięzca: Switzerland 1.82 3.55 5.0\n",
      "3.008000000000001\n",
      "W meczu Belgium vs Canada / Zwycięzca: Belgium 1.58 4.4 6.0\n",
      "4.960000000000002\n",
      "W meczu Spain vs Costa Rica / Zwycięzca: Spain 1.21 7.8 20.0\n",
      "5.284000000000002\n",
      "W meczu Germany vs Japan / Zwycięzca: Japan 1.44 5.0 7.4\n",
      "0.2840000000000016\n",
      "W meczu Morocco vs Croatia / Zwycięzca: Draw 3.65 3.3 2.2\n",
      "1.0040000000000022\n",
      "W meczu France vs Australia / Zwycięzca: France 1.26 6.0 14.0\n",
      "1.5480000000000027\n",
      "W meczu Mexico vs Poland / Zwycięzca: Draw 2.62 3.12 3.25\n",
      "2.2680000000000033\n",
      "W meczu Denmark vs Tunisia / Zwycięzca: Draw 1.63 3.85 6.4\n",
      "-2.7319999999999967\n",
      "W meczu Argentina vs Saudi Arabia / Zwycięzca: Saudi Arabia 1.12 10.0 25.0\n",
      "-7.731999999999997\n",
      "W meczu United States vs Wales / Zwycięzca: Draw 1.7 3.65 5.0\n",
      "-7.011999999999996\n",
      "-7.011999999999996\n"
     ]
    }
   ],
   "source": [
    "print(count_profit())"
   ],
   "metadata": {
    "collapsed": false,
    "pycharm": {
     "name": "#%%\n"
    }
   }
  },
  {
   "cell_type": "code",
   "execution_count": 9,
   "outputs": [
    {
     "name": "stdout",
     "output_type": "stream",
     "text": [
      "-19.479999999999997\n"
     ]
    }
   ],
   "source": [
    "def pc(odds, bet=5):\n",
    "    return odds * (bet - bet * 0.12) - bet\n",
    "\n",
    "print(pc(1.58) + pc(1.21) + pc(0) + pc(0) + pc(1.26) + pc(1.4) + pc(0) +\n",
    "      pc(0) + pc(1.4) + pc(1.7) + pc(1.39) + pc(2.36) + pc(0) + pc(1.92) +\n",
    "      pc(1.68) + pc(1.3) + pc(2.13) + pc(1.4) + pc(0) + pc(1.4) + pc(0) +\n",
    "      pc(1.3) + pc(0) + pc(1.3) + pc(0) + pc(2.01) + pc(0) + pc(0) +\n",
    "      pc(1.16) + pc(1.3) + pc(1.6))\n",
    "# print(pc(1.74) + pc(0))"
   ],
   "metadata": {
    "collapsed": false,
    "pycharm": {
     "name": "#%%\n"
    }
   }
  }
 ],
 "metadata": {
  "kernelspec": {
   "display_name": "Python 3",
   "language": "python",
   "name": "python3"
  },
  "language_info": {
   "codemirror_mode": {
    "name": "ipython",
    "version": 2
   },
   "file_extension": ".py",
   "mimetype": "text/x-python",
   "name": "python",
   "nbconvert_exporter": "python",
   "pygments_lexer": "ipython2",
   "version": "2.7.6"
  }
 },
 "nbformat": 4,
 "nbformat_minor": 0
}